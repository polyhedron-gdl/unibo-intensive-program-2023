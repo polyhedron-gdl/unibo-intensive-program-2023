{
 "cells": [
  {
   "cell_type": "markdown",
   "metadata": {},
   "source": [
    "<table align=\"left\">\n",
    "  <td>\n",
    "    <a target=\"_blank\" href=\"https://colab.research.google.com/github/polyhedron-gdl/unibo-intensive-program-2023/blob/main/2022/1-notebooks/chapter-1-4.ipynb\">\n",
    "        <img src=\"https://www.tensorflow.org/images/colab_logo_32px.png\" />Run in Google Colab</a>\n",
    "  </td>\n",
    "</table>"
   ]
  },
  {
   "cell_type": "markdown",
   "metadata": {},
   "source": [
    "## What is Logistic Regression\n",
    "\n",
    "### Classification Problem\n",
    "\n",
    "As we know there are two types of supervised learning models: those that are used to **predict** a numerical variable and those that are used for **classification**. Up to now we have considered the problem of predicting a numerical variable, we now move on to the classification problem. In particular we focus on the so called Binomial Logistic Regression, where the response variable has two values 0 and 1 or pass and fail or true and false. Multinomial Logistic Regression deals with situations where the response variable can have three or more possible values. \n",
    "\n",
    "### Why Logistic, not Linear?\n",
    "\n",
    "With binary classification, let $x$ be some feature and $y$ be the output which can be either 0 or 1.\n",
    "The probability that the output is 1 given its input can be represented as:\n",
    "\n",
    "$$P(y=1 \\vert x) $$\n",
    "\n",
    "If we predict the probability via linear regression, we can state it as:\n",
    "\n",
    "$$P(y=1 \\vert x) = \\beta_0 + \\beta_1 X$$\n",
    "\n",
    "Linear regression model can generate the predicted probability as any number ranging from negative to positive infinity, whereas probability of an outcome can only lie between 0< P(x)<1."
   ]
  },
  {
   "cell_type": "markdown",
   "metadata": {},
   "source": [
    "![chapter-4-1_pic_0.png](./pic/chapter-4-1_pic_0.png)"
   ]
  },
  {
   "cell_type": "markdown",
   "metadata": {},
   "source": [
    "To avoid this problem, log-odds function or logit function is used.\n",
    "\n",
    "### Logit Function\n",
    "\n",
    "Logistic regression can be expressed as:\n",
    "\n",
    "\\begin{equation}\n",
    "\\log \\left( \\frac{p(y=1\\vert x)}{1-p(y=1\\vert x)}\\right) = \\beta_0 + \\beta_1 X\n",
    "\\end{equation}\n",
    "\n",
    "where, the left hand side is called the *logit* or *log-odds* function, and $p/(1-p)$ is called *odds*. The odds signifies the ratio of probability of success to probability of failure. Therefore, in Logistic Regression, linear combination of inputs are mapped to the log(odds) - the output being equal to 1. If we take an inverse of the above function, we get:\n",
    "\n",
    "\\begin{equation}\n",
    "Q=p(y=1 \\vert x) = \\frac{e^{\\beta_0 + \\beta_1 X}}{1+e^{\\beta_0 + \\beta_1 X}} = \\frac{1}{1+e^{-(\\beta_0 + \\beta_1 X)}} =\n",
    "\\frac{1}{1+e^{-Y}}\n",
    "\\end{equation}\n",
    "\n",
    "where $Y= \\beta_0 + \\beta_1 X$. \n",
    "\n",
    "This is known as the **Sigmoid Function** and it gives an S-shaped curve. It always gives a value of probability ranging from $0<p<1$. Now, let's simply plot the sigmoid function for some values in the range –7 to 7 to\n",
    "see how it looks:"
   ]
  },
  {
   "cell_type": "code",
   "execution_count": 1,
   "metadata": {},
   "outputs": [
    {
     "data": {
      "image/png": "[encoded data removed]",
      "text/plain": [
       "<Figure size 432x288 with 1 Axes>"
      ]
     },
     "metadata": {
      "needs_background": "light"
     },
     "output_type": "display_data"
    }
   ],
   "source": [
    "import matplotlib.pyplot as plt\n",
    "import numpy as np\n",
    "\n",
    "def sigmoid(z):\n",
    "    return 1.0 / (1.0 + np.exp(-z))\n",
    "\n",
    "z = np.arange(-7, 7, 0.1)\n",
    "phi_z = sigmoid(z)\n",
    "plt.plot(z, phi_z)\n",
    "plt.axvline(0.0, color='k')\n",
    "plt.ylim(-0.1, 1.1)\n",
    "plt.xlabel('z')\n",
    "plt.ylabel('$\\phi (z)$')\n",
    "# y axis ticks and gridline\n",
    "plt.yticks([0.0, 0.5, 1.0])\n",
    "ax = plt.gca()\n",
    "ax.yaxis.grid(True)\n",
    "plt.tight_layout()\n",
    "plt.show()"
   ]
  },
  {
   "cell_type": "markdown",
   "metadata": {},
   "source": [
    "The output of the sigmoid function is then interpreted as the probability of a particular example belonging to class 1, $\\Phi(z) = P(y=1 \\vert \\mathbf{x}; \\mathbf{w})$, given its features, $x$, parameterized by the weights, $w$. The predicted probability can then simply be converted into a binary outcome via a threshold function:\n",
    "\n",
    "$$\\hat y = \\begin{cases}\n",
    "              &1 \\quad \\text{if } \\phi(z) \\ge 0.5 \\\\ & 0 \\quad \\text{otherwise}\n",
    "              \\end{cases}$$\n",
    "\n",
    "If we look at the preceding plot of the sigmoid function, this is equivalent to the\n",
    "\n",
    "following:\n",
    "\n",
    "$$\\hat y = \\begin{cases}\n",
    "              &1 \\quad \\text{if } z \\ge 0 \\\\ & 0 \\quad \\text{otherwise}\n",
    "              \\end{cases}$$\n"
   ]
  },
  {
   "cell_type": "markdown",
   "metadata": {},
   "source": [
    "### Estimation of Regression Coefficients\n",
    "\n",
    "Unlike linear regression model, that uses Ordinary Least Square for parameter estimation, we use Maximum Likelihood Estimation.\n",
    "There can be infinite sets of regression coefficients. The maximum likelihood estimate is that set of regression coefficients for which the probability of getting the data we have observed is maximum. In this case we can write simply:\n",
    "\n",
    "\\begin{equation}\n",
    "{\\cal{L}} = \\prod\\limits_{i=1}^n  Q(\\mathbf{\\beta}^T \\mathbf{x})^{y(i)} \\left[ 1 - Q(\\mathbf{\\beta}^T \\mathbf{x})\\right]^{1-y(i)} \\Rightarrow \\log{\\cal{L}} = \n",
    "\\sum\\limits_{i=1}^n\n",
    "\\left\\{\n",
    "{y(i)} \\cdot \\ln Q(\\mathbf{\\beta}^T \\mathbf{x}) \n",
    "+ (1-y(i)) \\cdot \\ln \\left[ 1 - Q(\\mathbf{\\beta}^T \\mathbf{x})\\right] \n",
    "\\right\\}\n",
    "\\end{equation}\n",
    "\n",
    "Now since in the binomial case $y_i = 1 \\,or\\, 0$, we can write\n",
    "\n",
    "\\begin{equation}L=\\sum\\limits_\\text{POS OUT} \\, \\ln(Q) + \\sum\\limits_\\text{NEG OUT} \\, \\ln(1-Q) \\end{equation}\n",
    "\n",
    "The first summation is over all the observations which led to positive outcomes and the second summation is over all observations which let to negative outcomes. This function cannot be maximized analytically and gradient ascent (analogous to gradient descent) methods must be used.\n",
    "\n",
    "Let's write a short code snippet to create a plot that illustrates the cost of classifying\n",
    "a single training example for different values of $\\phi(z)$ :"
   ]
  },
  {
   "cell_type": "code",
   "execution_count": 2,
   "metadata": {},
   "outputs": [
    {
     "data": {
      "image/png": "[encoded data removed]",
      "text/plain": [
       "<Figure size 432x288 with 1 Axes>"
      ]
     },
     "metadata": {
      "needs_background": "light"
     },
     "output_type": "display_data"
    }
   ],
   "source": [
    "def cost_1(z):\n",
    "    return - np.log(sigmoid(z))\n",
    "\n",
    "def cost_0(z):\n",
    "    return - np.log(1 - sigmoid(z))\n",
    "\n",
    "z = np.arange(-10, 10, 0.1)\n",
    "phi_z = sigmoid(z)\n",
    "c1 = [cost_1(x) for x in z]\n",
    "plt.plot(phi_z, c1, label='J(w) if y=1')\n",
    "c0 = [cost_0(x) for x in z]\n",
    "plt.plot(phi_z, c0, linestyle='--', label='J(w) if y=0')\n",
    "plt.ylim(0.0, 5.1)\n",
    "plt.xlim([0, 1])\n",
    "plt.xlabel('$\\phi$(z)')\n",
    "plt.ylabel('J(w)')\n",
    "plt.legend(loc='best')\n",
    "plt.tight_layout()\n",
    "plt.show()"
   ]
  },
  {
   "cell_type": "markdown",
   "metadata": {},
   "source": [
    "We can see that the cost approaches 0 (continuous line) if we correctly predict that\n",
    "an example belongs to class 1. Similarly, we can see on the y-axis that the cost also\n",
    "approaches 0 if we correctly predict y = 0 (dashed line). However, if the prediction\n",
    "is wrong, the cost goes toward infinity. The main point is that we penalize wrong\n",
    "predictions with an increasingly larger cost."
   ]
  },
  {
   "cell_type": "markdown",
   "metadata": {},
   "source": [
    "## Performance of Logistic Regression model\n",
    "\n",
    "To evaluate the performance of a logistic regression model, Deviance is used in lieu of sum of squares calculations.\n",
    "\n",
    "- Null Deviance indicates the response predicted by a model with nothing but an intercept.\n",
    "- Model deviance indicates the response predicted by a model on adding independent variables. If the model deviance is significantly smaller than the null deviance, one can conclude that the parameter or set of parameters significantly improved model fit.\n",
    "- Another way to find the accuracy of model is by using Confusion Matrix."
   ]
  },
  {
   "cell_type": "markdown",
   "metadata": {},
   "source": [
    "![image.png](./pic/chapter-4-1_pic_2.png)"
   ]
  },
  {
   "cell_type": "markdown",
   "metadata": {},
   "source": [
    "## Example 2 - Application to Credit Decision "
   ]
  },
  {
   "cell_type": "markdown",
   "metadata": {},
   "source": [
    "In this section we consider a subset of the data provided by the company Lending Club on its credit decision. For a complete description see the textbook of J. C. Hull chapter 3, pag. 73.\n",
    "\n",
    "LENDING CLUB BACKGROUND\n",
    "Lending Club is a peer-to-peer (P2P) lending platform, where borrowers submit their loan applications and individual lenders select the applications that they want to fund. Borrowers receive the full amount of the issued loan minus the origination fee, which is paid to the company. Investors purchase notes backed by the personal loans and pay Lending Club a service fee.\n",
    "\n",
    "P2P lending brings down the cost of personal loans compared to traditional financing by connecting the borrowers and investors directly. However, there is always a risk of investing in a bad loan. In fact, the default rate for P2P loans are much higher than that of traditional loans. Therefore, the lending industry is highly interested in providing the investors with comprehensive risk assessment of the loan applications. The company shares data about all loan applications made through its platform. "
   ]
  },
  {
   "cell_type": "code",
   "execution_count": 3,
   "metadata": {},
   "outputs": [],
   "source": [
    "# import packages\n",
    "import warnings\n",
    "warnings.filterwarnings('ignore')\n",
    "\n",
    "import openpyxl\n",
    "import pandas as pd\n",
    "import numpy as np\n",
    "\n",
    "import seaborn as sns\n",
    "import matplotlib.pyplot as plt\n",
    "\n",
    "from sklearn.linear_model import LogisticRegression\n",
    "\n",
    "from sklearn.metrics import accuracy_score, recall_score, precision_score, f1_score\n",
    "from sklearn.metrics import confusion_matrix, classification_report, roc_curve, roc_auc_score\n",
    "from sklearn.metrics import precision_recall_curve, auc, average_precision_score"
   ]
  },
  {
   "cell_type": "code",
   "execution_count": 4,
   "metadata": {},
   "outputs": [],
   "source": [
    "#\n",
    "# load file lendingclub_traindata.xlsx\n",
    "#\n",
    "if 'google.colab' in str(get_ipython()):\n",
    "    from google.colab import files\n",
    "    uploaded = files.upload()\n",
    "    path = ''\n",
    "else:\n",
    "    path = './data/'"
   ]
  },
  {
   "cell_type": "code",
   "execution_count": 5,
   "metadata": {},
   "outputs": [],
   "source": [
    "#\n",
    "# load file lendingclub_testdata.xlsx\n",
    "#\n",
    "if 'google.colab' in str(get_ipython()):\n",
    "    from google.colab import files\n",
    "    uploaded = files.upload()"
   ]
  },
  {
   "cell_type": "code",
   "execution_count": 6,
   "metadata": {},
   "outputs": [],
   "source": [
    "train = pd.read_excel(path + 'lendingclub_traindata.xlsx', engine='openpyxl')\n",
    "test = pd.read_excel(path + 'lendingclub_testdata.xlsx', engine='openpyxl')"
   ]
  },
  {
   "cell_type": "code",
   "execution_count": 7,
   "metadata": {},
   "outputs": [
    {
     "name": "stdout",
     "output_type": "stream",
     "text": [
      "   home_ownership  income    dti  fico_low  loan_status\n",
      "0               1  44.304  18.47       690            0\n",
      "1               0  38.500  33.73       660            0\n",
      "2               1  54.000  19.00       660            0\n",
      "3               1  60.000  33.98       695            0\n",
      "4               0  39.354  10.85       685            0\n",
      "--------------------------------\n",
      "   home_ownership  income    dti  fico_low  loan_status\n",
      "0               1   127.0  10.94       675            0\n",
      "1               1   197.0  15.64       710            0\n",
      "2               1    25.5  28.75       670            0\n",
      "3               1    80.0  20.16       660            0\n",
      "4               0    57.0  30.60       675            0\n"
     ]
    }
   ],
   "source": [
    "# 1 = good, 0 = default\n",
    "\n",
    "# give column names\n",
    "cols = ['home_ownership', 'income', 'dti', 'fico_low', 'loan_status']\n",
    "train.columns = test.columns = cols\n",
    "\n",
    "print(train.head())\n",
    "print(\"--------------------------------\")\n",
    "print(test.head())"
   ]
  },
  {
   "cell_type": "markdown",
   "metadata": {},
   "source": [
    "For the purposes of this exercise, the dataset has already been split into train and test set. There are 8695 instances of training set and 5916 instances of test set with with four features and one target. The four features are home_ownership, income, dti and fico_low and the target is loan status that includes either fully paid or defaulted loans only. "
   ]
  },
  {
   "cell_type": "code",
   "execution_count": 8,
   "metadata": {},
   "outputs": [
    {
     "name": "stdout",
     "output_type": "stream",
     "text": [
      "(8695, 4) (8695,) (5916, 4) (5916,)\n"
     ]
    },
    {
     "data": {
      "text/plain": [
       "Index(['home_ownership', 'income', 'dti', 'fico_low'], dtype='object')"
      ]
     },
     "execution_count": 8,
     "metadata": {},
     "output_type": "execute_result"
    }
   ],
   "source": [
    "# remove target column to create feature only dataset\n",
    "X_train = train.drop('loan_status', 1)\n",
    "X_test = test.drop('loan_status', 1)\n",
    "\n",
    "# store target column\n",
    "y_train = train['loan_status']\n",
    "y_test = test['loan_status']\n",
    "\n",
    "print(X_train.shape, y_train.shape, X_test.shape, y_test.shape)\n",
    "X_train.columns"
   ]
  },
  {
   "cell_type": "markdown",
   "metadata": {},
   "source": [
    "By default the mode() method return the highest frequency value in a Series"
   ]
  },
  {
   "cell_type": "code",
   "execution_count": 9,
   "metadata": {},
   "outputs": [
    {
     "data": {
      "text/plain": [
       "1"
      ]
     },
     "execution_count": 9,
     "metadata": {},
     "output_type": "execute_result"
    }
   ],
   "source": [
    "y_train.mode()[0]"
   ]
  },
  {
   "cell_type": "code",
   "execution_count": 10,
   "metadata": {},
   "outputs": [
    {
     "data": {
      "text/plain": [
       "0.8276020701552617"
      ]
     },
     "execution_count": 10,
     "metadata": {},
     "output_type": "execute_result"
    }
   ],
   "source": [
    "majority_class = y_train.mode()[0]        # predict fully paid only\n",
    "prediction = np.full(shape=y_train.shape, fill_value=majority_class)\n",
    "accuracy_score(y_train, prediction)"
   ]
  },
  {
   "cell_type": "code",
   "execution_count": 11,
   "metadata": {},
   "outputs": [
    {
     "data": {
      "text/plain": [
       "1    82.760207\n",
       "0    17.239793\n",
       "Name: loan_status, dtype: float64"
      ]
     },
     "execution_count": 11,
     "metadata": {},
     "output_type": "execute_result"
    }
   ],
   "source": [
    "freq = y_train.value_counts()           # count frequency of different classes in loan status\n",
    "freq/sum(freq)*100                      # get percentage of above"
   ]
  },
  {
   "cell_type": "code",
   "execution_count": 12,
   "metadata": {},
   "outputs": [
    {
     "name": "stdout",
     "output_type": "stream",
     "text": [
      "[-6.56518725] [[ 0.13949599  0.00410667 -0.00112302  0.01125204]]\n"
     ]
    }
   ],
   "source": [
    "# create an instance of logistic regression\n",
    "lgstc_reg =  LogisticRegression(penalty=\"none\", solver='newton-cg')     \n",
    "# fit training data on logistic regression \n",
    "lgstc_reg.fit(X_train, y_train)                                                             \n",
    "# get the coefficients of each features\n",
    "print(lgstc_reg.intercept_, lgstc_reg.coef_)                                                "
   ]
  },
  {
   "cell_type": "markdown",
   "metadata": {},
   "source": [
    "<br>\n",
    "The bias is estimated as -6.56517476. The coefficient of the logistic regression are 0.13949599 for home_ownership, 0.0041 0667 for income, -0.00112303 for dti and 0.01125202 for fico_low. These are the weights (parameters) that maximizes the likelihood of producing our given data and hence gives us the least error in predicting our response variable.\n",
    "\n",
    "The question of how to evaluate the model is of the utmost importance. This is where we will test the model's performance on an unseen test set and check the results of our chosen measure of success. This step is meant to be representative of how the model might perform in the real world."
   ]
  },
  {
   "cell_type": "code",
   "execution_count": 13,
   "metadata": {},
   "outputs": [],
   "source": [
    "# predict default loans based on test data set\n",
    "y_pred = lgstc_reg.predict(X_test)                           "
   ]
  },
  {
   "cell_type": "markdown",
   "metadata": {},
   "source": [
    "An analyst must decide on a criterion for predicting whether loan will be good or default. This involves specifying a threshold. \n",
    "\n",
    ">**By default this threshold is set to 0.5, i.e., loans are separated into good and bad categories according to whether the >probability of no default is greater or less than 0.5. However this does not work well for an imbalanced data set such as >this. It would predict that all loans are good! We will look at the results for few other thresholds**. \n",
    "\n"
   ]
  },
  {
   "cell_type": "markdown",
   "metadata": {},
   "source": [
    "From the confusion matrix, we can derive some important metrics"
   ]
  },
  {
   "cell_type": "markdown",
   "metadata": {},
   "source": [
    "> **Accuracy** is one metric for evaluating classification models. Informally, accuracy is the fraction of predictions our > model got right. Formally, accuracy has the following definition:\n",
    ">\n",
    ">$$\\text{accuracy} = \\frac{\\text{number of correct predictions}}{\\text{total number of predictions}}$$\n",
    ">\n",
    "> For binary classification, accuracy can also be calculated in terms of positives and negatives as follows:\n",
    ">\n",
    ">$$\\text{accuracy} = \\frac{TP + TN}{TP + TN + FP + FN}$$\n",
    ">\n",
    "> Where TP = True Positives, TN = True Negatives, FP = False Positives, and FN = False Negatives."
   ]
  },
  {
   "cell_type": "markdown",
   "metadata": {},
   "source": [
    "> **Precision** attempts to answer the following question: What proportion of positive identifications was actually > correct? Precision is defined as follows:\n",
    ">\n",
    ">$$\\text{precision} = \\frac{TP}{TP+FP}$$"
   ]
  },
  {
   "cell_type": "markdown",
   "metadata": {},
   "source": [
    "> **Recall** attempts to answer the following question: What proportion of actual positives was identified correctly?\n",
    "> Mathematically, recall is defined as follows:\n",
    ">\n",
    "> $$\\text{recall} = \\frac{TP}{TP+FN}$$"
   ]
  },
  {
   "cell_type": "code",
   "execution_count": 14,
   "metadata": {},
   "outputs": [
    {
     "name": "stdout",
     "output_type": "stream",
     "text": [
      "Confusion matrix for threshold = 0.5\n",
      "[[82.11629479  0.        ]\n",
      " [17.88370521  0.        ]]\n",
      " \n",
      "Confusion matrix for threshold = 0.75\n",
      "[[77.5862069   4.5300879 ]\n",
      " [16.26098715  1.62271805]]\n",
      " \n",
      "Confusion matrix for threshold = 0.8\n",
      "[[55.34144692 26.77484787]\n",
      " [ 9.75321163  8.13049358]]\n",
      " \n",
      "Confusion matrix for threshold = 0.85\n",
      "[[28.65111562 53.46517918]\n",
      " [ 3.73563218 14.14807302]]\n",
      " \n",
      "ALL METRICS\n",
      "                  0         1         2         3\n",
      "THRESHOLD       0.5      0.75       0.8      0.85\n",
      "accuracy   0.821163  0.792089  0.634719  0.427992\n",
      "recall          1.0  0.944833   0.67394  0.348909\n",
      "tnr             0.0  0.090737  0.454631  0.791115\n",
      "fpr             1.0  0.909263  0.545369  0.208885\n",
      "precision  0.821163  0.826729  0.850169  0.884656\n",
      "f1_score   0.901801  0.881844  0.751866  0.500443\n"
     ]
    }
   ],
   "source": [
    "THRESHOLD = [.50, .75, .80, .85]\n",
    "# df to store results\n",
    "results = pd.DataFrame(columns=[\"THRESHOLD\", \"accuracy\", \"recall\", \"tnr\", \"fpr\", \"precision\", \"f1_score\"]) \n",
    "# threshold column\n",
    "results['THRESHOLD'] = THRESHOLD                                                                           \n",
    "# fit data to model\n",
    "lgstc_reg.fit(X_train, y_train)\n",
    "             \n",
    "j = 0                                                                                                      \n",
    "# iterate over each threshold    \n",
    "for i in THRESHOLD:     \n",
    "    # if prob > threshold, predict 1\n",
    "    preds = np.where(lgstc_reg.predict_proba(X_test)[:,1] > i, 1, 0)                                       \n",
    "    # confusion matrix (in percentage)\n",
    "    cm = (confusion_matrix(y_test, preds,labels=[1, 0], sample_weight=None) / 5916 )*100                   \n",
    "    \n",
    "    print('Confusion matrix for threshold =',i)\n",
    "    print(cm)\n",
    "    print(' ')      \n",
    "    \n",
    "    TP = cm[0][0]   # True Positives\n",
    "    FN = cm[0][1]   # False Positives\n",
    "    FP = cm[1][0]   # True Negatives\n",
    "    TN = cm[1][1]   # False Negatives\n",
    "        \n",
    "    results.iloc[j,1] = accuracy_score(y_test, preds) \n",
    "    results.iloc[j,2] = recall_score(y_test, preds)\n",
    "    results.iloc[j,3] = TN/(FP+TN)  # True negative rate\n",
    "    results.iloc[j,4] = FP/(FP+TN)  # False positive rate\n",
    "    results.iloc[j,5] = precision_score(y_test, preds)\n",
    "    results.iloc[j,6] = f1_score(y_test, preds)\n",
    "   \n",
    "    j += 1\n",
    "\n",
    "print('ALL METRICS')\n",
    "print( results.T)\n",
    "   "
   ]
  },
  {
   "cell_type": "markdown",
   "metadata": {},
   "source": [
    "<br>\n",
    "We note here from the confusion matrix at threshold 0.75 that while the model is good at identifying good loans, however it isn't good at identifying the bad loans at all.\n",
    "\n",
    "We also note that increasing the threshold results in decrease in overall accuracy. But the percentage of default loans identified as default is higher with increasing threshold. We know by now that maximizing the accuracy does not necessarily create the best model. Thus, lets look at some other metrics."
   ]
  },
  {
   "cell_type": "code",
   "execution_count": 15,
   "metadata": {},
   "outputs": [
    {
     "name": "stdout",
     "output_type": "stream",
     "text": [
      "ALL METRICS\n",
      "                  0         1         2         3\n",
      "THRESHOLD       0.5      0.75       0.8      0.85\n",
      "accuracy   0.821163  0.792089  0.634719  0.427992\n",
      "recall          1.0  0.944833   0.67394  0.348909\n",
      "tnr             0.0  0.090737  0.454631  0.791115\n",
      "fpr             1.0  0.909263  0.545369  0.208885\n",
      "precision  0.821163  0.826729  0.850169  0.884656\n",
      "f1_score   0.901801  0.881844  0.751866  0.500443\n"
     ]
    }
   ],
   "source": [
    "print( 'ALL METRICS' )\n",
    "print( results.T )"
   ]
  },
  {
   "cell_type": "markdown",
   "metadata": {},
   "source": [
    "### What is the AUC - ROC Curve?\n",
    "AUC - ROC curve is a performance measurement for the classification problems at various threshold settings. ROC is a probability curve and AUC represents the degree or measure of separability. It tells how much the model is capable of distinguishing between classes. Higher the AUC, the better the model is at predicting 0 classes as 0 and 1 classes as 1. By analogy, the Higher the AUC, the better the model is at distinguishing between patients with the disease and no disease. The ROC curve is plotted with TPR against the FPR where TPR is on the y-axis and FPR is on the x-axis."
   ]
  },
  {
   "cell_type": "markdown",
   "metadata": {},
   "source": [
    "![caption](./pic/chapter-4-1_pic_8.png)"
   ]
  },
  {
   "cell_type": "markdown",
   "metadata": {},
   "source": [
    "In the context of classification tasks, some sklearn estimators also implement the predict_proba method that returns the class probabilities for each data point. The method accepts a single argument that corresponds to the data over which the probabilities will be computed and returns an array of lists containing the class probabilities for the input data points."
   ]
  },
  {
   "cell_type": "code",
   "execution_count": 16,
   "metadata": {},
   "outputs": [],
   "source": [
    "lr_prob=lgstc_reg.predict_proba(X_test)\n",
    "lr_prob=lr_prob[:, 1]"
   ]
  },
  {
   "cell_type": "code",
   "execution_count": 17,
   "metadata": {},
   "outputs": [
    {
     "data": {
      "image/png": "[encoded data removed]",
      "text/plain": [
       "<Figure size 432x288 with 1 Axes>"
      ]
     },
     "metadata": {
      "needs_background": "light"
     },
     "output_type": "display_data"
    },
    {
     "name": "stdout",
     "output_type": "stream",
     "text": [
      "AUC Score      :  0.6019668412790937\n",
      "Best Threshold :  0.8147754297811342\n"
     ]
    }
   ],
   "source": [
    "lr_auc=roc_auc_score(y_test, lr_prob)\n",
    "\n",
    "lr_fpr,lr_tpr, thresholds =roc_curve(y_test,lr_prob)\n",
    "#\n",
    "# calculate the g-mean for each threshold\n",
    "#\n",
    "gmeans = np.sqrt(lr_tpr * (1-lr_fpr))\n",
    "#\n",
    "# locate the index of the largest g-mean\n",
    "#\n",
    "ix = np.argmax(gmeans)\n",
    "\n",
    "plt.plot([0, 1], [0, 1], color=\"navy\", lw=1, linestyle=\"--\", label='Random Prediction')\n",
    "plt.plot(lr_fpr,lr_tpr , color=\"black\" , label='Logistic Regression')\n",
    "plt.scatter(lr_fpr[ix], lr_tpr[ix], marker='o', color='red', label='Best')\n",
    "\n",
    "plt.xlabel('False Positive Rate')\n",
    "plt.ylabel('True Positive Rate')\n",
    "plt.legend()\n",
    "plt.show()\n",
    "\n",
    "print(\"AUC Score      : \", lr_auc)\n",
    "print(\"Best Threshold : \", thresholds[ix])"
   ]
  },
  {
   "cell_type": "markdown",
   "metadata": {},
   "source": [
    "## References"
   ]
  },
  {
   "cell_type": "markdown",
   "metadata": {},
   "source": [
    "John C. Hull, **Machine Learning in Business: An Introduction to the World of Data Science**, Amazon, 2019.\n",
    "\n",
    "Paul Wilmott, **Machine Learning: An Applied Mathematics Introduction**, Panda Ohana Publishing, 2019."
   ]
  }
 ],
 "metadata": {
  "kernelspec": {
   "display_name": "Python 3 (ipykernel)",
   "language": "python",
   "name": "python3"
  },
  "language_info": {
   "codemirror_mode": {
    "name": "ipython",
    "version": 3
   },
   "file_extension": ".py",
   "mimetype": "text/x-python",
   "name": "python",
   "nbconvert_exporter": "python",
   "pygments_lexer": "ipython3",
   "version": "3.7.4"
  },
  "toc": {
   "base_numbering": "6",
   "nav_menu": {},
   "number_sections": true,
   "sideBar": true,
   "skip_h1_title": false,
   "title_cell": "Table of Contents",
   "title_sidebar": "Contents",
   "toc_cell": false,
   "toc_position": {
    "height": "calc(100% - 180px)",
    "left": "10px",
    "top": "150px",
    "width": "331px"
   },
   "toc_section_display": true,
   "toc_window_display": false
  }
 },
 "nbformat": 4,
 "nbformat_minor": 4
}
