{
 "cells": [
  {
   "cell_type": "markdown",
   "id": "9c38f820",
   "metadata": {},
   "source": [
    "<table align=\"left\">\n",
    "  <td>\n",
    "    <a target=\"_blank\" href=\"https://colab.research.google.com/github/polyhedron-gdl/unibo-intensive-program-2023/blob/main/1-notebooks/chapter-2-3.ipynb\">\n",
    "        <img src=\"https://www.tensorflow.org/images/colab_logo_32px.png\" />Run in Google Colab</a>\n",
    "  </td>\n",
    "</table>"
   ]
  },
  {
   "cell_type": "code",
   "execution_count": 4,
   "id": "3ba8a959",
   "metadata": {},
   "outputs": [],
   "source": [
    "import numpy as np\n",
    "from numpy import array"
   ]
  },
  {
   "cell_type": "markdown",
   "id": "8889061c",
   "metadata": {},
   "source": [
    "# Convolutional Neural Network Models for Time Series Forecasting"
   ]
  },
  {
   "cell_type": "markdown",
   "id": "82e05fca",
   "metadata": {},
   "source": [
    "This notebook is based on the blog of Jason Brownlee, see [here](https://machinelearningmastery.com/how-to-develop-convolutional-neural-network-models-for-time-series-forecasting/) for more infos and details on the use of a convolutional neural network for time series forecasting."
   ]
  },
  {
   "cell_type": "markdown",
   "id": "737750c4",
   "metadata": {},
   "source": [
    "## Univariate CNN Models"
   ]
  },
  {
   "cell_type": "markdown",
   "id": "dd15362c",
   "metadata": {},
   "source": [
    "Although traditionally developed for two-dimensional image data, CNNs can be used to model univariate time series forecasting problems.\n",
    "\n",
    "Univariate time series are datasets comprised of a single series of observations with a temporal ordering and a model is required to learn from the series of past observations to predict the next value in the sequence.\n",
    "\n",
    "This section is divided into two parts; they are:\n",
    "\n",
    "- Data Preparation\n",
    "- CNN Model"
   ]
  },
  {
   "cell_type": "markdown",
   "id": "4284649e",
   "metadata": {},
   "source": [
    "### Data Preparation\n",
    "\n",
    "Before a univariate series can be modeled, it must be prepared.\n",
    "\n",
    "The CNN model will learn a function that maps a sequence of past observations as input to an output observation. As such, the sequence of observations must be transformed into multiple examples from which the model can learn.\n",
    "\n",
    "Consider a given univariate sequence:"
   ]
  },
  {
   "cell_type": "code",
   "execution_count": 5,
   "id": "f0488577",
   "metadata": {},
   "outputs": [
    {
     "name": "stdout",
     "output_type": "stream",
     "text": [
      "[10, 20, 30, 40, 50, 60, 70, 80, 90]\n"
     ]
    }
   ],
   "source": [
    "print(list(range(10,100,10)))"
   ]
  },
  {
   "attachments": {},
   "cell_type": "markdown",
   "id": "183bcda9",
   "metadata": {},
   "source": [
    "We can divide the sequence into multiple input/output patterns called samples, where three time steps are used as input and one time step is used as output for the one-step prediction that is being learned."
   ]
  },
  {
   "cell_type": "markdown",
   "id": "c758251d",
   "metadata": {},
   "source": [
    "![chapter-2-3_pic_0.png](./pic/chapter-2-3_pic_0.png)"
   ]
  },
  {
   "cell_type": "markdown",
   "id": "7789da1c",
   "metadata": {},
   "source": [
    "The `split_sequence()` function below implements this behavior and will split a given univariate sequence into multiple samples where each sample has a specified number of time steps and the output is a single time step."
   ]
  },
  {
   "cell_type": "code",
   "execution_count": 12,
   "id": "5c55903d",
   "metadata": {},
   "outputs": [],
   "source": [
    "# split a univariate sequence into samples\n",
    "def split_sequence(sequence, n_steps):\n",
    "    X, y = list(), list()\n",
    "    for i in range(len(sequence)):\n",
    "        # find the end of this pattern\n",
    "        end_ix = i + n_steps\n",
    "        # check if we are beyond the sequence\n",
    "        if end_ix > len(sequence)-1:\n",
    "            break\n",
    "        # gather input and output parts of the pattern\n",
    "        seq_x, seq_y = sequence[i:end_ix], sequence[end_ix]\n",
    "        X.append(seq_x)\n",
    "        y.append(seq_y)\n",
    "    return array(X), array(y)"
   ]
  },
  {
   "cell_type": "code",
   "execution_count": 14,
   "id": "03739ccf",
   "metadata": {},
   "outputs": [
    {
     "name": "stdout",
     "output_type": "stream",
     "text": [
      "[10 20 30] 40\n",
      "[20 30 40] 50\n",
      "[30 40 50] 60\n",
      "[40 50 60] 70\n",
      "[50 60 70] 80\n",
      "[60 70 80] 90\n"
     ]
    }
   ],
   "source": [
    "# define input sequence\n",
    "raw_seq = list(range(10,100,10))\n",
    "# choose a number of time steps\n",
    "n_steps = 3\n",
    "# split into samples\n",
    "X, y = split_sequence(raw_seq, n_steps)\n",
    "# summarize the data\n",
    "for i in range(len(X)):\n",
    "    print(X[i], y[i])"
   ]
  },
  {
   "cell_type": "markdown",
   "id": "ca283c0d",
   "metadata": {},
   "source": [
    "### CNN Model"
   ]
  },
  {
   "cell_type": "code",
   "execution_count": 15,
   "id": "ece65a1d",
   "metadata": {},
   "outputs": [],
   "source": [
    "# univariate cnn example\n",
    "from numpy import array\n",
    "from keras.models import Sequential\n",
    "from keras.layers import Dense\n",
    "from keras.layers import Flatten\n",
    "from keras.layers.convolutional import Conv1D\n",
    "from keras.layers.convolutional import MaxPooling1D"
   ]
  },
  {
   "cell_type": "code",
   "execution_count": 16,
   "id": "af476048",
   "metadata": {},
   "outputs": [
    {
     "name": "stdout",
     "output_type": "stream",
     "text": [
      "[[101.65114]]\n"
     ]
    }
   ],
   "source": [
    "# choose a number of time steps\n",
    "n_steps = 3\n",
    "# split into samples\n",
    "X, y = split_sequence(raw_seq, n_steps)\n",
    "# reshape from [samples, timesteps] into [samples, timesteps, features]\n",
    "n_features = 1\n",
    "X = X.reshape((X.shape[0], X.shape[1], n_features))\n",
    "# define model\n",
    "model = Sequential()\n",
    "model.add(Conv1D(filters=64, kernel_size=2, activation='relu', input_shape=(n_steps, n_features)))\n",
    "model.add(MaxPooling1D(pool_size=2))\n",
    "model.add(Flatten())\n",
    "model.add(Dense(50, activation='relu'))\n",
    "model.add(Dense(1))\n",
    "model.compile(optimizer='adam', loss='mse')\n",
    "# fit model\n",
    "model.fit(X, y, epochs=1000, verbose=0)\n",
    "# demonstrate prediction\n",
    "x_input = array([70, 80, 90])\n",
    "x_input = x_input.reshape((1, n_steps, n_features))\n",
    "yhat = model.predict(x_input, verbose=0)\n",
    "print(yhat)"
   ]
  },
  {
   "cell_type": "markdown",
   "id": "035947f5",
   "metadata": {},
   "source": [
    "### Exercise - Train a CNN Network to Forecast a Fibonacci Number"
   ]
  },
  {
   "cell_type": "code",
   "execution_count": 19,
   "id": "36c8f3fc",
   "metadata": {},
   "outputs": [],
   "source": [
    "def fibonacci_1(n):\n",
    "    if n <= 1:\n",
    "        return n\n",
    "    else:\n",
    "        return fibonacci_1(n-1) + fibonacci_1(n-2)"
   ]
  },
  {
   "cell_type": "code",
   "execution_count": 20,
   "id": "5b859e34",
   "metadata": {},
   "outputs": [],
   "source": [
    "def fibonacci_2(n):\n",
    "    # Initialize the list with the first two numbers\n",
    "    fib = [0, 1]\n",
    "    \n",
    "    # Calculate the rest of the numbers using a loop\n",
    "    for i in range(2, n):\n",
    "        # Add the previous two numbers to get the next number\n",
    "        next_fib = fib[i-1] + fib[i-2]\n",
    "        fib.append(next_fib)\n",
    "    \n",
    "    # Return the list of Fibonacci numbers\n",
    "    return fib[:n]"
   ]
  },
  {
   "cell_type": "code",
   "execution_count": 33,
   "id": "f87b2d1b",
   "metadata": {},
   "outputs": [
    {
     "name": "stdout",
     "output_type": "stream",
     "text": [
      "[0, 1, 1, 2, 3, 5, 8, 13, 21, 34, 55, 89, 144, 233, 377]\n",
      "610\n"
     ]
    }
   ],
   "source": [
    "n = 15\n",
    "raw_seq = fibonacci_2(n)\n",
    "print(raw_seq)\n",
    "print(fibonacci_1(n))"
   ]
  },
  {
   "cell_type": "code",
   "execution_count": 34,
   "id": "06174a76",
   "metadata": {},
   "outputs": [],
   "source": [
    "# choose a number of time steps\n",
    "n_steps = 3\n",
    "# split into samples\n",
    "X, y = split_sequence(raw_seq, n_steps)\n",
    "# reshape from [samples, timesteps] into [samples, timesteps, features]\n",
    "n_features = 1\n",
    "X = X.reshape((X.shape[0], X.shape[1], n_features))"
   ]
  },
  {
   "cell_type": "code",
   "execution_count": 35,
   "id": "b9707e18",
   "metadata": {},
   "outputs": [
    {
     "name": "stdout",
     "output_type": "stream",
     "text": [
      "[[610.1629]]\n"
     ]
    }
   ],
   "source": [
    "model.fit(X, y, epochs=1000, verbose=0)\n",
    "# demonstrate prediction\n",
    "x_input = array(raw_seq[-n_steps:])\n",
    "x_input = x_input.reshape((1, n_steps, n_features))\n",
    "yhat = model.predict(x_input, verbose=0)\n",
    "print(yhat)"
   ]
  },
  {
   "cell_type": "markdown",
   "id": "b2278fee",
   "metadata": {},
   "source": [
    "## Credit and Reference \n",
    "\n",
    "- J. Brownlee, \"[How to Develop Convolutional Neural Network Models for Time Series Forecasting](https://machinelearningmastery.com/how-to-develop-convolutional-neural-network-models-for-time-series-forecasting/)\", Machine Learning Mastery, November 12, 2018."
   ]
  },
  {
   "cell_type": "code",
   "execution_count": null,
   "id": "3cc507f8",
   "metadata": {},
   "outputs": [],
   "source": []
  }
 ],
 "metadata": {
  "kernelspec": {
   "display_name": "Python 3 (ipykernel)",
   "language": "python",
   "name": "python3"
  },
  "language_info": {
   "codemirror_mode": {
    "name": "ipython",
    "version": 3
   },
   "file_extension": ".py",
   "mimetype": "text/x-python",
   "name": "python",
   "nbconvert_exporter": "python",
   "pygments_lexer": "ipython3",
   "version": "3.7.4"
  },
  "toc": {
   "base_numbering": 1,
   "nav_menu": {},
   "number_sections": true,
   "sideBar": true,
   "skip_h1_title": false,
   "title_cell": "Table of Contents",
   "title_sidebar": "Contents",
   "toc_cell": false,
   "toc_position": {},
   "toc_section_display": true,
   "toc_window_display": false
  }
 },
 "nbformat": 4,
 "nbformat_minor": 5
}
